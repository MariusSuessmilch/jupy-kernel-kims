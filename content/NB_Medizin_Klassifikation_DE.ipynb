{
 "cells": [
  {
   "cell_type": "markdown",
   "id": "12759308",
   "metadata": {},
   "source": [
    "<img src=\"../img/KImS_Logo.png\" width=\"130\" align=\"left\"/>\n",
    "\n",
    "# Klassifikation von Brustkrebs-Arten &nbsp; <i class=\"fa fa-user-md\" style=\"font-size:30px\"></i> <i class=\"fa fa-medkit\" style=\"font-size:30px\"></i>\n",
    "___\n",
    "\n",
    "## Einführungsvideo\n",
    "\n",
    "___\n",
    "\n",
    "<video controls src=\"additional/intro_medicine.mp4\" width=\"90%\" />"
   ]
  },
  {
   "cell_type": "markdown",
   "id": "aeffe4c5",
   "metadata": {},
   "source": [
    "Hinweis: Obwohl unsere Aufgaben auf echten Daten aus einer Studie von Wolberg et al. [1999] beruhen, haben wir die Daten etwas vereinfacht, um euch eine eindeutige Klassifikation zu ermöglichen. "
   ]
  },
  {
   "cell_type": "code",
   "execution_count": null,
   "id": "1e4aa509",
   "metadata": {},
   "outputs": [],
   "source": [
    "from kimachtschule.content.classification import MedicineClassification\n",
    "\n",
    "Plot = MedicineClassification()"
   ]
  },
  {
   "cell_type": "markdown",
   "id": "38d3ed0c",
   "metadata": {},
   "source": [
    "## Aufgabe 1 | Veranschaulichen von Messwerten [ Daten <i class=\"fa fa-database\" style=\"font-size:22px\"></i>&nbsp;]\n",
    "___\n",
    "\n",
    "\n",
    "Zunächst schauen wir uns die Tumordaten an.\n",
    "\n",
    "<i class=\"fa fa-laptop\" style=\"font-size:38px\"></i> &nbsp; \n",
    "[Exkurs:](additional/medicine_data_exploration.py) Hier kannst du den gesamten Datensatz interaktiv erforschen."
   ]
  },
  {
   "cell_type": "code",
   "execution_count": null,
   "id": "70f5a5dc",
   "metadata": {},
   "outputs": [],
   "source": [
    "Plot.with_line(m_range=(-1500,1500,100), b_range=(10,300,5))"
   ]
  },
  {
   "cell_type": "markdown",
   "id": "85d26cf6",
   "metadata": {},
   "source": [
    "Es ist schnell zu erkennen, dass die **Daten <i class=\"fa fa-database\" style=\"font-size:15px\"></i>** in zwei Punktwolken liegen. \n",
    "Wie kann man als Mensch diese Punktgruppen voneinander trennen?\n",
    "Das geht ganz einfach, indem man eine Gerade einzeichnet.\n",
    "\n",
    "<i class=\"fa fa-laptop\" style=\"font-size:38px\"></i> &nbsp;\n",
    "Versuche in der Abbildung oben die Steigung $m$ und den y-Achsenabschnitt $b$ der Geraden so zu verändern, dass die Linie die Punktwolken trennt."
   ]
  },
  {
   "cell_type": "markdown",
   "id": "9d4dbb96",
   "metadata": {},
   "source": [
    "## Aufgabe 2 | Klassifikation durch ein Neuron [ Modell <i class=\"fa fa-sitemap\" style=\"font-size:22px\"></i>&nbsp;]\n",
    "___\n",
    "\n",
    "\n",
    "Bisher haben wir uns überlegt haben, wie wir als Menschen die Daten trennen würden.\n",
    "Doch wie wird diese Aufgabe im Maschinellen Lernen gelöst?\n",
    "Um diese Frage zu beantworten, müssen wir uns zunächst für ein **Modell <i class=\"fa fa-sitemap\" style=\"font-size:16px\"></i>** entscheiden.\n",
    "Eine besonders mächtige und breit genutzte Klasse von Modellen ist die der _künstlichen neuronalen Netze_.\n",
    "Aus diesem Grund wollen wir ein neuronales Netz benutzen, um unsere Klassifizierungsaufgabe zu lösen.\n",
    "Wie also funktioniert ein solches neuronales Netz?\n",
    "Schauen wir uns zunächst die Grundeinheit eines jeden neuronalen Netz an: das Neuron!  \n",
    "Ein solches besteht aus drei Hauptkomponenten:\n",
    "- Input\n",
    "- Neuron\n",
    "- Output\n",
    "\n",
    "In der einfachsten Form hat ein neuronales Netz nur ein einziges Neuron, was in der folgenden Grafik dargestellt ist.\n",
    "Auch wenn es simpel erscheint werden wir sehen, dass ein einzelnes Neuron bereits in der Lage ist, bestimmte Klassifizierungsaufgaben zu lösen!\n",
    "\n",
    "<img src=\"../img/single_neuron_medicine.png\" width=\"600\"/>\n",
    "\n",
    "Der Input des Neurons sind die Daten, die klassifiziert werden sollen.\n",
    "In unserem Beispiel von Brustkrebs haben wir zweidimensionale Daten.\n",
    "Das bedeutet, dass jeder Datenpunkt zwei Werte hat, den Anteil konkaver Punkte $K$ und den Zellkernumfang $U$.\n",
    "Jede Dimension geht als einzelner Input in das Neuron.\n",
    "\n",
    "Das Neuron selbst hat Gewichte, genannt $w_1$, $w_2$ oder generell $w_n$.\n",
    "Dabei gibt es genauso viele Gewichte wie Inputs.\n",
    "Die Gewichte werden benutzt, um eine interne Rechnung zu machen: $z = K \\cdot w_1 + U \\cdot w_2$. \n",
    "Sie legen damit fest, wie stark jedes Merkmal in die Einteilung der verschiedenen Klassen eingeht.\n",
    "Je größer das Gewicht, desto mehr geht das zugehörige Merkmal, hier $K$ oder $U$, in die Rechnung ein.\n",
    "\n",
    "Der letzte Teil ist der Output.\n",
    "Hier wird das Ergebnis $z$ mit einem Schwellenwert $s$ verglichen.\n",
    "Ist $z < s$, wird der Input der Klasse $A$ zugeordnet.\n",
    "Ist jedoch $z > s$, so ordnet das Neuron den Input der Klasse $B$ zu.\n",
    "\n",
    "<i class=\"fa fa-laptop\" style=\"font-size:38px\"></i> &nbsp; \n",
    "[Exkurs:](additional/neuron_calculation.py) Hier wollen wir nun die Neuronrechnung üben.\n",
    "\n",
    "\n",
    "<i class=\"fa fa-laptop\" style=\"font-size:38px\"></i> &nbsp;\n",
    "Nun wollen wir versuchen, die gleiche Klassifikationsaufgabe wie oben mithilfe eines Neurons zu lösen.\n",
    "Verändere hierzu die Gewichte $w_1$ und $w_2$, bis die Punkte in zwei sinnvolle Klassen unterteilt sind."
   ]
  },
  {
   "cell_type": "code",
   "execution_count": null,
   "id": "0dec102d",
   "metadata": {},
   "outputs": [],
   "source": [
    "import hints; hints.neuron_details()"
   ]
  },
  {
   "cell_type": "code",
   "execution_count": null,
   "id": "0af5983c",
   "metadata": {},
   "outputs": [],
   "source": [
    "Plot.with_colors(w1_range=(-1500,1500,100), w2_range=(0.7,2.7,0.1), legend_loc='upper left')"
   ]
  },
  {
   "cell_type": "markdown",
   "id": "34d3bd8c",
   "metadata": {},
   "source": [
    "Das Anpassen der Gewichte, welches wir hier per Hand durchgeführt haben, entspricht dem _Lernen_ eines neuronalen Netzes.\n",
    "Im Maschinellen Lernen werden genau diese Gewichte verändert und so lange an den Knöpfen gedreht, bis eine Klassifikation der Daten gelingt.\n",
    "\n",
    "Doch wie schafft es das Neuron, dieselbe Aufgabe zu erfüllen wie die Gerade im ersten Beispiel?\n",
    "Tatsächlich tut es genau das Gleiche!\n",
    "\n",
    "Dies können wir auch mathematisch zeigen.\n",
    "\n",
    "<details class=\"details-solution\">\n",
    "<summary><i class=\"fa fa-exclamation-triangle\" style=\"font-size:20px\"></i>  <u>Achtung: Mathematik!</u></summary>\n",
    "\n",
    "Erinnern wir uns zunächst an die Geradengleichung:\n",
    "\n",
    "\\begin{equation}\n",
    "U = m \\cdot K + b\n",
    "\\end{equation}\n",
    "\n",
    "Die Äquivalenz können wir nun sehen, wenn wir uns die Gleichung des Neurons genauer anschauen:\n",
    "\n",
    "\\begin{equation}\n",
    "z = K \\cdot w_1 + U \\cdot w_2\n",
    "\\end{equation}\n",
    "\n",
    "Nun wissen wir, dass das Neuron einen Punkt der Klasse $A$ zuordnet, wenn $z<s$ gilt, und der Klasse $B$, wenn $z>s$ gilt. \n",
    "Das bedeutet, dass wir bei $z=s$ eine Grenze zwischen den beiden Klassen ziehen können.\n",
    "Wenn wir $z=s$ einsetzen und nach $U$ umformen, bekommen wir:\n",
    "\n",
    "\\begin{equation}\n",
    "z = K \\cdot w_1 + U \\cdot w_2 = s \\qquad \\Leftrightarrow \\qquad U \\cdot w_2 = - K \\cdot w_1 + s \\qquad \\Leftrightarrow \\qquad U = \\left(-\\frac{w_1}{w_2}\\right) \\cdot K + \\frac{s}{w_2}\n",
    "\\end{equation}\n",
    "\n",
    "Hier sehen wir die selbe Geradengleichung wie zu Beginn, wenn wir $m=\\left(-\\frac{w_1}{w_2}\\right)$ und $b=\\frac{s}{w_2}$ setzen.\n",
    "    \n",
    "\n",
    "</details>\n",
    "\n",
    "Du kannst veranschaulichen, dass Gewichte und Geradenparameter (Steigung, y-Achsenabschnitt) das Gleiche tun, wenn du auf den Knopf \"mit Grenze\" klickst, der die Gerade einblendet. "
   ]
  },
  {
   "cell_type": "code",
   "execution_count": null,
   "id": "d494f9f9",
   "metadata": {},
   "outputs": [],
   "source": [
    "import hints; hints.skalarprodukt_details()"
   ]
  },
  {
   "cell_type": "markdown",
   "id": "1fb6fca3",
   "metadata": {},
   "source": [
    "## Aufgabe 3 | Maschinelles Lernen [ Fehlerfunktion <i class=\"fa fa-area-chart\" style=\"font-size:22px\"></i>&nbsp;]\n",
    "___\n",
    "\n",
    "Wir haben nun passende Werte für die Gewichte $w_1$ und $w_2$ unseres Neurons durch geschicktes Ausprobieren gefunden.\n",
    "Doch wie soll ein Computer die besten Gewichte finden?\n",
    "\n",
    "Diese Frage bringt uns zum Konzept der **Fehlerfunktion <i class=\"fa fa-area-chart\" style=\"font-size:16px\"></i>**, der wir das mathematische Symbol $\\mathcal{L}$ geben (Englisch: loss function).\n",
    "Diese berechnet, wie ihr Name schon verrät, den Verlust, der durch die aktuellen Gewichte $w_1$ und $w_2$ zustande kommt.  \n",
    "\n",
    "__In ihrer einfachsten Form zählt sie auf, wie viele Punkte falsch klassifiziert wurden.__\n",
    "Dies können wir uns am besten veranschaulichen, wenn wir eines der Gewichte konstant halten und $\\mathcal{L}$ in Abhängigkeit vom verbliebenen Gewicht aufzeichnen. \n",
    "Hierzu wählen wir $w_2=1$.\n",
    "\n",
    "<i class=\"fa fa-laptop\" style=\"font-size:38px\"></i> &nbsp;\n",
    "Verändere in der Abbildung unten den Wert des Gewichts $w_1$, bis alle Punkte richtig klassifiziert sind.\n",
    "Erforsche auch Regionen, in denen die Klassifikation nicht gut funktioniert.\n",
    "Erinnert dich der grobe Verlauf der Fehlerfunktion $\\mathcal{L}(w_1)$ an eine Funktion, die du aus dem Mathematikunterricht kennst?"
   ]
  },
  {
   "cell_type": "code",
   "execution_count": null,
   "id": "5858926b",
   "metadata": {},
   "outputs": [],
   "source": [
    "Plot.with_colors_and_loss(w1_range=(-1500,8000,250), w2=1., ylims=(-1,400))"
   ]
  },
  {
   "cell_type": "markdown",
   "id": "35265cc8",
   "metadata": {},
   "source": [
    "Hier können wir erkennen, dass eine optimale Klassifikation genau dann erreicht wird, wenn unsere Fehlerfunktion ein Minimum hat!\n",
    "Also müssen wir dem Computer sagen, dass er $\\mathcal{L}$ für viele verschiedene Gewichte ausrechnen soll, um dann genau die Gewichte zu wählen, für die $\\mathcal{L}$ am geringsten ist."
   ]
  },
  {
   "cell_type": "markdown",
   "id": "f3947818",
   "metadata": {},
   "source": [
    "## Aufgabe 4 | Automatisches Finden der besten Gewichte [ Optimierungsmethode <i class=\"fa fa-sliders\" style=\"font-size:22px\"></i> &nbsp;]\n",
    "___\n",
    "\n",
    "\n",
    "\n",
    "Nun müssen wir nur noch bestimmen, welche Gewichte ausprobiert werden sollen.\n",
    "\n",
    "**1. Versuch: alle Gewichte**\n",
    "\n",
    "    Der Computer probiert alle möglichen Gewichte aus und findet das perfekte Minimum.  \n",
    "\n",
    "Hier gibt es einen entschiedenen Nachteil:\n",
    "es dauert sehr lange, in vielen Fällen sogar unendlich lange.\n",
    "Also müssen wir cleverer sein.\n",
    "    \n",
    "    \n",
    "**2. Versuch: zufällige Gewichte**\n",
    "\n",
    "    Der Computer probiert zufällig Gewichte aus und wählt daraus das beste aus.  \n",
    "\n",
    "Dies garantiert uns, dass nach recht kurzer Zeit ein Ergebnis vorliegt.\n",
    "Jedoch gibt es auch hier einen Nachteil:\n",
    "Vielleicht ist das beste Minimum gar nicht unter den zufälligen Gewichten!\n",
    "In diesem Fall haben wir eine schlechtere Klassifikation, als eigentlich möglich wäre.  \n",
    "\n",
    "Um uns einen noch besseren Algorithmus zu überlegen, sollten wir erneut einen Blick auf die Fehlerfunktion werfen:\n",
    "wir können sehen, dass sie keine großen Sprünge macht, wenn wir $w_1$ ändern, und dass sie außerdem ein klar definiertes Minimum hat.\n",
    "Wenn wir an einem zufälligen Punkt, der nicht im Minimum liegt, einen kleinen Schritt \"bergab\" machen, nähern wir uns dem Minimum.\n",
    "Gehen wir wiederholt bergab, können wir also iterativ zum Minimum gelangen!\\\n",
    "Wie finden wir allerdings heraus, in welche Richtung es bergab geht, ohne den gesamten Verlauf der Funktion vorher zu kennen?\n",
    "Dies ist möglich mit etwas, das einigen von euch aus dem Mathematikunterricht bekannt sein dürfte: der Ableitung! Mithilfe der Ableitung können wir berechnen, ob es nach links oder rechts bergab geht.\n",
    "Diese Überlegung führt uns zum finalen Versuch.\n",
    "    \n",
    "    \n",
    "**3. Versuch: zufälliger Startwert, dann Schritte in Richtung des Minimums**:\n",
    "\n",
    "Auf Englisch wird dies _gradient descent_ genannt, also \"Gradientenabstieg\".\n",
    "Der Gradient ist eine mehrdimensionale Verallgemeinerung der Ableitung.\n",
    "In unserem Beispiel, wo $w_2$ auf 1 fixiert ist, wird der Gradient einfach zur bekannten Ableitung.  \n",
    "Die Methode ist in der folgenden Abbildung näher beschrieben.  \n",
    "\n",
    "\n",
    "<img src=\"../img/Gradient Descent.png\" width=\"900\"/>"
   ]
  },
  {
   "cell_type": "markdown",
   "id": "40dadf0d",
   "metadata": {},
   "source": [
    "Mithilfe des Gradientenabstiegs können also effizient Minima gefunden werden!\n",
    "Eine solche Methode, um diejenigen Parameter zu finden, für die das Fehlermaß zwischen dem gewählten Modell und den Datenpunkten minimal wird, nennt man **Optimierungsmethode <i class=\"fa fa-sliders\" style=\"font-size:16px\"></i>**.\n",
    "Da kompliziertere Modelle viele Tausend (wenn nicht gar Millionen) Parameter haben, würde das Suchen ohne diesen hilfreichen Algorithmus Jahrtausende dauern, was die Optimierungsmethode essentiell im Maschinellen Lernen macht.\n",
    "\n",
    "Zurück zu unserem Neuron:\n",
    "Wenn wir den Computer mit der Methode des Gradientenabstieges die optimalen Gewichte finden lassen, kann unser Neuron die Daten klassifizieren!\n",
    "Die Zutaten die wir hierfür gebraucht haben sind also:\n",
    "- Daten <i class=\"fa fa-database\" style=\"font-size:15px\"></i>\n",
    "- Modell <i class=\"fa fa-sitemap\" style=\"font-size:16px\"></i>\n",
    "- Fehlerfunktion <i class=\"fa fa-area-chart\" style=\"font-size:16px\"></i>\n",
    "- Optimierungsmethode <i class=\"fa fa-sliders\" style=\"font-size:16px\"></i>\n",
    "\n",
    "In der Tat ist dies eine Aussage, die ganz generell im Feld des Maschinellen Lernens gilt:\n",
    "Genau diese vier Zutaten sind essentiell für _jede_ Form des Maschinellen Lernens!  \n",
    "Was wir als nächstes sehen wollen ist, wie unser Neuron nun wirklich die Daten klassifiziert."
   ]
  },
  {
   "cell_type": "markdown",
   "id": "bcccf70e",
   "metadata": {},
   "source": [
    "## Aufgabe 5 | Testen unseres Modells\n",
    "\n",
    "### Teil a | Klassifizieren eines neuen Datenpunkts\n",
    "___\n",
    "Nachdem wir die Werte für die Gewichte des Neurons gefunden haben, nennen wir es \"trainiert\".\n",
    "Eine der wichtigsten Eigenschaften von neuronalen Netzen wollen wir nun am Beispiel unseres einzelnen Neuron veranschaulichen.\n",
    "Diese ist die Fähigkeit der Generalisierung, also das Klassifizieren von bisher noch unbekannten Werten.\n",
    "\n",
    "<i class=\"fa fa-pencil-square-o\" style=\"font-size:38px\"></i> & &nbsp; <i class=\"fa fa-laptop\" style=\"font-size:38px\"></i> &nbsp;\n",
    "Trage zunächst deine gefundenen Werte für $w_1$ und $w_2$ aus Aufgabe 2 ein.\n",
    "Welcher Klasse ordnet unser Neuron den Punkt (0,18, 230) zu, wenn wir als Schwellenwert 160 nehmen?\n",
    "Trage deine Antwort weiter unten durch Drücken des Knopfes \"Gutartig\" oder \"Bösartig\" ein."
   ]
  },
  {
   "cell_type": "code",
   "execution_count": null,
   "id": "21d0afe6",
   "metadata": {},
   "outputs": [],
   "source": [
    "Plot.with_manual_classification(w1_range=(-1500,1500,100), w2_range=(0.7,1.7,0.1), new_point=(0.18,230), legend_loc='upper left')"
   ]
  },
  {
   "cell_type": "markdown",
   "id": "4b074350",
   "metadata": {},
   "source": [
    "Wunderbar!\n",
    "Wir können also neue Daten mit unserem Neuron klassifizieren!\n",
    "Wenn dieses eine Neuron doch bereits ausreicht, warum ist dann immer die Rede von _Netzen_ von Neuronen?\n",
    "Warum wird nicht immer dieses eine benutzt?\n",
    "\n",
    "### Teil b | Eine neue Messreihe\n",
    "___\n",
    "Stellen wir uns nun vor, dass ein Kollege neue Daten gemessen hat.\n",
    "Er fragt uns, zu welcher Klasse seine gemessenen Punkte gehören.\n",
    "Wir können unser trainiertes Neuron benutzen, um diese Daten zu klassifizieren.\n",
    "\n",
    "<i class=\"fa fa-laptop\" style=\"font-size:38px\"></i> &nbsp;\n",
    "Aktiviere die Klassifizierung durch unser Neuron, indem du auf 'nachher' klickst."
   ]
  },
  {
   "cell_type": "code",
   "execution_count": null,
   "id": "769fdf49",
   "metadata": {},
   "outputs": [],
   "source": [
    "Plot.before_after(w1=500,w2=1., legend_loc='upper left')"
   ]
  },
  {
   "cell_type": "markdown",
   "id": "e5e91608",
   "metadata": {},
   "source": [
    "Unser Neuron konnte diese neuen Daten den beiden Klassen zuordnen, ohne sie jemals vorher gesehen zu haben!\n",
    "Doch wenn wir uns das Ergebnis genauer anschauen stellen wir fest, dass etwas schief gelaufen ist bei der Klassifikation.\n",
    "Mit dem eigenen Auge ist klar erkennbar, dass sich die neuen Daten nicht gut einer der beiden Klassen zuordnen lassen.\n",
    "Dieser Teil beschreibt eine ganz neue Klasse, zum Beispiel eine andere Tumorart!  \n",
    "In der praktischen Anwendungen kommen solche Fälle häufig vor. Wie können wir unser Dilemma lösen?\n",
    "\n",
    "## Aufgabe 6 | Klassifizieren in mehrere Klassen\n",
    "____\n",
    "\n",
    "### <i class=\"fa fa-compass\" style=\"font-size:22px\"></i> Kompass \n",
    "##### Wo sind wir?\n",
    "Wir haben verstanden, dass wir zweidimensionale Daten mit einer Gerade trennen und damit auch klassifizieren können, wenn wir die Steigung $m$ und den y-Achsenabschnitt $b$ richtig wählen.\n",
    "Weiterhin haben wir gesehen, dass ein Neuron die gleiche Aufgabe erfüllen kann, wenn wir dem Neuron passende Gewichte $w_1$ und $w_2$ geben.\n",
    "##### Wo wollen wir hin?\n",
    "Wir wollen nicht per Hand die Gewichte herausfinden, die eine \"gute\" Klassifikation ermöglichen, sondern die Aufgabe dem Computer geben.\n",
    "##### Was machen wir konkret?\n",
    "Damit der Computer entscheiden kann ob eine Klassifikation \"gut\" oder \"schlecht\" ist müssen wir diese Begriffe definieren.\n",
    "\n",
    "<i class=\"fa fa-pencil-square-o\" style=\"font-size:38px\"></i> &nbsp;\n",
    "Sammle Ideen, wie wir diese neue Klasse identifizieren können!  \n",
    "Schau dir dazu noch einmal die erste Abbildung an, in der die Funktionsweise eines Neurons erklärt wird."
   ]
  },
  {
   "cell_type": "markdown",
   "id": "c7cc59d0",
   "metadata": {},
   "source": [
    "<details class=\"details-solution\">\n",
    "<summary><i class=\"fa fa-exclamation-triangle\" style=\"font-size:20px\"></i>  <u>Antwort</u></summary>\n",
    "\n",
    "_Erinnern wir uns erneut, was die Funktion unseres einzelnen Neurons ist.\n",
    "Es beschreibt eine Grenzlinie, anhand derer die beiden Klassen unterschieden werden können.\n",
    "Wenn wir nun eine weitere Klasse haben, können wir diese unterscheiden, indem wir eine weitere Grenzlinie hinzufügen.\n",
    "Das ist damit gleichzusetzen, dass wir ein weiteres Neuron hinzufügen!_ \n",
    "\n",
    "<img src=\"../img/double_neuron_medicine.png\" width=\"1200\"/>\n",
    "\n",
    "</details>"
   ]
  },
  {
   "cell_type": "markdown",
   "id": "03469cf7",
   "metadata": {},
   "source": [
    "Sobald wir erneut die richtigen Gewichte gefunden haben, entspricht dies den folgenden beiden Geraden in unserem Klassifikationsplot:"
   ]
  },
  {
   "cell_type": "code",
   "execution_count": null,
   "id": "9c3f3fe2",
   "metadata": {},
   "outputs": [],
   "source": [
    "Plot.two_lines(w1=500., w2=1., line_loc=0.09, new_x_lims=(-0.05,0.2), legend_loc='upper left')"
   ]
  },
  {
   "cell_type": "markdown",
   "id": "578d20a7",
   "metadata": {},
   "source": [
    "Nun müssen wir nur noch festlegen, welcher Output welcher Klasse entspricht.\n",
    "\n",
    "<i class=\"fa fa-pencil-square-o\" style=\"font-size:38px\"></i> &nbsp;\n",
    "Ordne die Outputs unseres kleinen Zwei-Neuronen-Netzwerkes den drei Klassen gutartiger Tumor, bösartiger Tumor und neue Tumorart zu!"
   ]
  },
  {
   "cell_type": "markdown",
   "id": "429e2d0e",
   "metadata": {},
   "source": [
    "AC =  \n",
    "\n",
    "BC =  \n",
    "\n",
    "AD =  \n",
    "\n",
    "BD =  "
   ]
  },
  {
   "cell_type": "markdown",
   "id": "90e94808",
   "metadata": {},
   "source": [
    "Dies können wir auch ein Neuron machen lassen, welches wir an die Outputs unserer zwei Neuronen anschließen:\n",
    "\n",
    "<img src=\"../img/small_network_medicine.png\" width=\"1200\"/>\n",
    "\n",
    "Dies ist unser erstes kleines Netzwerk!\n",
    "\n",
    "Anhand dieses Beispiels lässt sich bereits erkennen, warum nicht nur ein einziges Neuron ausreicht.\n",
    "Sobald die Aufgabe komplexer wird, sind mehrere Neuronen strikt notwendig, um sie noch lösen zu können.\n",
    "Dies ist zum Beispiel der Fall, wenn noch mehr Klassen existieren oder wenn die Klassen nicht durch Geraden voneinander trennbar sind."
   ]
  },
  {
   "cell_type": "markdown",
   "id": "529396d2",
   "metadata": {},
   "source": [
    "## <i class=\"fa fa-graduation-cap\" style=\"font-size:32px\"></i>  Herzlichen Glückwünsch, du hast erfolgreich die Grundlagen von Klassifikation und neuronalen Netzwerken gemeistert! \n",
    "Was wir anhand von Brustkrebsdaten betrachtet haben, ist für das Maschinelle Lernen, zum Beispiel in der Bilderkennung, eine wichtige Grundlage.\n",
    "Wir hoffen, du hattest Spaß an diesem kleinen Beispiel und freust dich auf die anstehenden Anwendungsbeispiele."
   ]
  }
 ],
 "metadata": {
  "jupytext": {
   "cell_metadata_filter": "-all",
   "encoding": "# -*- coding: utf-8 -*-",
   "main_language": "python",
   "notebook_metadata_filter": "-all",
   "text_representation": {
    "extension": ".py",
    "format_name": "light"
   }
  }
 },
 "nbformat": 4,
 "nbformat_minor": 5
}
